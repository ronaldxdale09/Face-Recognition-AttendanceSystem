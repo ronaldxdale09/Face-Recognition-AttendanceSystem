{
 "cells": [
  {
   "cell_type": "code",
   "execution_count": 2,
   "source": [],
   "outputs": [],
   "metadata": {}
  },
  {
   "cell_type": "code",
   "execution_count": 1,
   "source": [
    "import cv2\r\n",
    "\r\n",
    "\r\n",
    "def generate_dataset():\r\n",
    "    face_classifier = cv2.CascadeClassifier(\"haarcascades\\haarcascade_frontalface_default.xml\")\r\n",
    "\r\n",
    "    #If face is detected on camera it will capture it then convert into GRAYSCALE then finally cropped the frontal face\r\n",
    "    def face_cropped(img):\r\n",
    "        gray = cv2.cvtColor(img,cv2.COLOR_BGR2GRAY)\r\n",
    "        faces = face_classifier.detectMultiScale(gray, 1.5, 5)\r\n",
    "        # scaling factor = 1.5\r\n",
    "        # minimum neighbor = 5\r\n",
    "        \r\n",
    "        if faces is ():\r\n",
    "            return None\r\n",
    "        for (x,y,w,h) in faces:\r\n",
    "            cropped_face = img[y:y+h,x:x+w]\r\n",
    "        return cropped_face\r\n",
    "    \r\n",
    "    cap = cv2.VideoCapture(0)\r\n",
    "    id =2\r\n",
    "    img_id = 0\r\n",
    "    \r\n",
    "    while True:\r\n",
    "        ret, frame = cap.read()\r\n",
    "        if face_cropped(frame) is not None:\r\n",
    "            img_id+=1\r\n",
    "            face = cv2.resize(face_cropped(frame), (300,300))\r\n",
    "            face = cv2.cvtColor(face, cv2.COLOR_BGR2GRAY)\r\n",
    "\r\n",
    "            \r\n",
    "            file_name_path = \"datasets/face.\"+str(id)+\".\"+str(img_id)+\".jpg\"\r\n",
    "            cv2.imwrite(file_name_path, face)\r\n",
    "            cv2.putText(face, str(img_id), (50,50), cv2.FONT_HERSHEY_COMPLEX, 1, (124,255,0), 2)\r\n",
    "            \r\n",
    "            cv2.imshow(\"Cropped face\", face)\r\n",
    "            \r\n",
    "        #THE MAXIMUM VALUE OF DATASETS BEING GENERATE\r\n",
    "        if cv2.waitKey(1)==13 or int(img_id)==300: #13 is the ASCII character of Enter\r\n",
    "            break\r\n",
    "            \r\n",
    "    cap.release()\r\n",
    "    cv2.destroyAllWindows()\r\n",
    "    print(\"Collecting samples is completed....\")\r\n",
    "\r\n",
    "     \r\n",
    "generate_dataset()"
   ],
   "outputs": [
    {
     "output_type": "stream",
     "name": "stderr",
     "text": [
      "<>:14: SyntaxWarning: \"is\" with a literal. Did you mean \"==\"?\n",
      "<>:14: SyntaxWarning: \"is\" with a literal. Did you mean \"==\"?\n",
      "<ipython-input-1-9dbc31dc3f40>:14: SyntaxWarning: \"is\" with a literal. Did you mean \"==\"?\n",
      "  if faces is ():\n"
     ]
    },
    {
     "output_type": "stream",
     "name": "stdout",
     "text": [
      "Collecting samples is completed....\n"
     ]
    }
   ],
   "metadata": {}
  },
  {
   "cell_type": "code",
   "execution_count": null,
   "source": [],
   "outputs": [],
   "metadata": {}
  }
 ],
 "metadata": {
  "orig_nbformat": 4,
  "language_info": {
   "name": "python",
   "version": "3.8.8",
   "mimetype": "text/x-python",
   "codemirror_mode": {
    "name": "ipython",
    "version": 3
   },
   "pygments_lexer": "ipython3",
   "nbconvert_exporter": "python",
   "file_extension": ".py"
  },
  "kernelspec": {
   "name": "python3",
   "display_name": "Python 3.8.8 64-bit ('base': conda)"
  },
  "interpreter": {
   "hash": "96eb50e1d44aed467dc8f759cb08c32fbfa9babcf79c554e2d0e5feb04653a10"
  }
 },
 "nbformat": 4,
 "nbformat_minor": 2
}