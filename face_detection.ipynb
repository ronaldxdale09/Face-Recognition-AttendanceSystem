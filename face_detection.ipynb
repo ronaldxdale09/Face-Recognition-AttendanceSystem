{
 "cells": [
  {
   "cell_type": "markdown",
   "source": [
    "# FACE DETECTION AND DISPLAY THE NAME OF REGISTERED PERSON"
   ],
   "metadata": {}
  },
  {
   "cell_type": "code",
   "execution_count": 3,
   "source": [
    "import cv2\r\n",
    "import numpy as np\r\n",
    "from PIL import Image\r\n",
    "import os\r\n",
    "from datetime import datetime\r\n",
    "\r\n",
    "\r\n",
    "\r\n",
    "def draw_boundary(img, classifier, scaleFactor, minNeighbors, color, text, clf):\r\n",
    "    gray_img = cv2.cvtColor(img, cv2.COLOR_BGR2GRAY)\r\n",
    "    features = classifier.detectMultiScale(gray_img, scaleFactor, minNeighbors)\r\n",
    "    \r\n",
    "    for (x,y,w,h) in features:\r\n",
    "        \r\n",
    "        #DRAW A RECTANAGLE TO THE DETECTED FACE \r\n",
    "        cv2.rectangle(img, (x,y), (x+w,y+h), color, 2 )\r\n",
    "        \r\n",
    "        id, pred = clf.predict(gray_img[y:y+h,x:x+w])\r\n",
    "\r\n",
    "        #FORMULA TO COMPUTE FOR CONFIDENCE\r\n",
    "        confidence = int(100*(1-pred/300))\r\n",
    "        \r\n",
    "    \r\n",
    "        #Confidence likelihood of the results being true\r\n",
    "        threshold = 78\r\n",
    "        if confidence>threshold :\r\n",
    "            if id==1:\r\n",
    "\r\n",
    "                cv2.putText(img, \"RONALD DALE\", (x,y-5), cv2.FONT_HERSHEY_SIMPLEX, 0.8, color, 1, cv2.LINE_AA)\r\n",
    "                cv2.putText(img,\"Confidence: \" + str(confidence), (x,y+180), cv2.FONT_HERSHEY_SIMPLEX, 0.8, color, 1, cv2.LINE_AA)\r\n",
    "                markAttendance(\"RONALD DALE\")\r\n",
    "            if id==2:\r\n",
    "                cv2.putText(img, \"Alfie\", (x,y-5), cv2.FONT_HERSHEY_SIMPLEX, 0.8, color, 1, cv2.LINE_AA)\r\n",
    "                cv2.putText(img,\"Confidence: \" + str(confidence), (x,y+180), cv2.FONT_HERSHEY_SIMPLEX, 0.8, color, 1, cv2.LINE_AA)\r\n",
    "\r\n",
    "\r\n",
    "        else:\r\n",
    "            cv2.putText(img, \"UNKNOWN\", (x,y-5), cv2.FONT_HERSHEY_SIMPLEX, 0.8, (0,0,255), 1, cv2.LINE_AA)\r\n",
    "    \r\n",
    "    return img\r\n",
    "\r\n",
    "\r\n",
    "\r\n",
    "\r\n",
    "def markAttendance(name):\r\n",
    "    with open('Attendance.csv','r+') as f:\r\n",
    "        myDataList = f.readlines()\r\n",
    "        nameList = []\r\n",
    "        for line in myDataList:\r\n",
    "            entry = line.split(',')\r\n",
    "            nameList.append(entry[0])\r\n",
    "        if name not in nameList:\r\n",
    "            now = datetime.now()\r\n",
    "            dtString = now.strftime('%H:%M:%S')\r\n",
    "            f.writelines(f'\\n{name},{dtString}')\r\n",
    "\r\n",
    "\r\n",
    "\r\n",
    "\r\n",
    "# loading classifier\r\n",
    "faceCascade = cv2.CascadeClassifier(\"haarcascades\\haarcascade_frontalface_default.xml\")\r\n",
    "\r\n",
    "clf = cv2.face.LBPHFaceRecognizer_create()\r\n",
    "clf.read(\"classifier.xml\")\r\n",
    "\r\n",
    "video_capture = cv2.VideoCapture(0)\r\n",
    "\r\n",
    "#SETTINGS\r\n",
    "scaleVal = 1.2\r\n",
    "neigh =  7\r\n",
    "\r\n",
    "#This loop is for detecting and diplaying the object/face with rectangle \r\n",
    "while True:\r\n",
    "    ret, img = video_capture.read() \r\n",
    "    img = draw_boundary(img, faceCascade,scaleVal,neigh, (255,255,255), \"Face\", clf)\r\n",
    "    cv2.imshow(\"face Detection\", img)\r\n",
    "    \r\n",
    "    if cv2.waitKey(1)==13:\r\n",
    "        break\r\n",
    "video_capture.release()\r\n",
    "cv2.destroyAllWindows()"
   ],
   "outputs": [],
   "metadata": {}
  },
  {
   "cell_type": "markdown",
   "source": [
    "# MAKE ATTENDANCE"
   ],
   "metadata": {}
  },
  {
   "cell_type": "code",
   "execution_count": null,
   "source": [],
   "outputs": [],
   "metadata": {}
  }
 ],
 "metadata": {
  "orig_nbformat": 4,
  "language_info": {
   "name": "python",
   "version": "3.8.8",
   "mimetype": "text/x-python",
   "codemirror_mode": {
    "name": "ipython",
    "version": 3
   },
   "pygments_lexer": "ipython3",
   "nbconvert_exporter": "python",
   "file_extension": ".py"
  },
  "kernelspec": {
   "name": "python3",
   "display_name": "Python 3.8.8 64-bit"
  },
  "interpreter": {
   "hash": "96eb50e1d44aed467dc8f759cb08c32fbfa9babcf79c554e2d0e5feb04653a10"
  }
 },
 "nbformat": 4,
 "nbformat_minor": 2
}