{
 "cells": [
  {
   "cell_type": "markdown",
   "source": [
    "# TRAINING THE CLASSIFIER"
   ],
   "metadata": {}
  },
  {
   "cell_type": "code",
   "execution_count": 1,
   "source": [
    "import os\r\n",
    "import cv2\r\n",
    "from PIL import Image #pip install pillow\r\n",
    "import numpy as np    # pip install numpy\r\n",
    "\r\n",
    "def train_classifier(data_dir):\r\n",
    "    path = [os.path.join(data_dir, f) for f in os.listdir(data_dir)]\r\n",
    "    \r\n",
    "    faces = []\r\n",
    "    ids = []\r\n",
    "    \r\n",
    "    for image in path:\r\n",
    "        img = Image.open(image).convert('L')\r\n",
    "\r\n",
    "        #CONVERTING THE IMAGE INTO NUMPY ARRAY\r\n",
    "        imageNp = np.array(img, 'uint8')\r\n",
    "        #GETTING THE USER ID ON THE IMAGE\r\n",
    "        id = int(os.path.split(image)[1].split(\".\")[1])\r\n",
    "        \r\n",
    "        faces.append(imageNp)\r\n",
    "        ids.append(id)\r\n",
    "        \r\n",
    "    ids = np.array(ids)\r\n",
    "    \r\n",
    "    # Train and save \r\n",
    "    #LBPH (Local Binary Pattern Histogram) is a Face-Recognition algorithm it is used to recognize the face of a person\r\n",
    "    classifier = cv2.face.LBPHFaceRecognizer_create()\r\n",
    "    classifier.train(faces,ids)\r\n",
    "    classifier.write(\"classifier.xml\")\r\n",
    "train_classifier(\"datasets\")"
   ],
   "outputs": [],
   "metadata": {}
  },
  {
   "cell_type": "code",
   "execution_count": null,
   "source": [],
   "outputs": [],
   "metadata": {}
  },
  {
   "cell_type": "markdown",
   "source": [],
   "metadata": {}
  }
 ],
 "metadata": {
  "orig_nbformat": 4,
  "language_info": {
   "name": "python",
   "version": "3.8.8",
   "mimetype": "text/x-python",
   "codemirror_mode": {
    "name": "ipython",
    "version": 3
   },
   "pygments_lexer": "ipython3",
   "nbconvert_exporter": "python",
   "file_extension": ".py"
  },
  "kernelspec": {
   "name": "python3",
   "display_name": "Python 3.8.8 64-bit ('base': conda)"
  },
  "interpreter": {
   "hash": "96eb50e1d44aed467dc8f759cb08c32fbfa9babcf79c554e2d0e5feb04653a10"
  }
 },
 "nbformat": 4,
 "nbformat_minor": 2
}